{
 "cells": [
  {
   "cell_type": "markdown",
   "metadata": {},
   "source": [
    "# The visuals"
   ]
  },
  {
   "cell_type": "markdown",
   "metadata": {},
   "source": [
    "This is the notebook with all the visuals from the initial data scrapping and wrangling for the \"Can you win anything with kids?\" article in WAGNH."
   ]
  },
  {
   "cell_type": "markdown",
   "metadata": {},
   "source": [
    "## Initial imports"
   ]
  },
  {
   "cell_type": "code",
   "execution_count": null,
   "metadata": {},
   "outputs": [],
   "source": [
    "import csv\n",
    "import random\n",
    "import time\n",
    "import os\n",
    "import re\n",
    "from datetime import datetime\n",
    "\n",
    "import pandas as pd\n",
    "import numpy as np\n",
    "import matplotlib.pyplot as plt\n",
    "import seaborn as sns\n",
    "\n",
    "import warnings\n",
    "warnings.filterwarnings('ignore')"
   ]
  },
  {
   "cell_type": "code",
   "execution_count": null,
   "metadata": {},
   "outputs": [],
   "source": [
    "!cd"
   ]
  },
  {
   "cell_type": "markdown",
   "metadata": {},
   "source": [
    "## Get the data"
   ]
  },
  {
   "cell_type": "code",
   "execution_count": null,
   "metadata": {},
   "outputs": [],
   "source": [
    "season_summaries_dir = 'season_summaries'\n",
    "\n",
    "season_dataframes = []\n",
    "\n",
    "for filename in os.listdir(season_summaries_dir):\n",
    "    if filename.endswith('.csv'):\n",
    "        file_path = os.path.join(season_summaries_dir, filename)\n",
    "        season_df = pd.read_csv(file_path)\n",
    "        season_dataframes.append(season_df)\n",
    "\n",
    "df = pd.concat(season_dataframes, ignore_index=True)\n",
    "df = df[df['Season'].str.contains('2008|2009|2010|2011|2012|2013|2014|2015|2016|2017|2018|2019|2020|2021|2022|2023')]"
   ]
  },
  {
   "cell_type": "markdown",
   "metadata": {},
   "source": [
    "## Exploratory data analysis"
   ]
  },
  {
   "cell_type": "markdown",
   "metadata": {},
   "source": [
    "### Assessing dataframe structure"
   ]
  },
  {
   "cell_type": "code",
   "execution_count": null,
   "metadata": {},
   "outputs": [],
   "source": [
    "df.shape"
   ]
  },
  {
   "cell_type": "code",
   "execution_count": null,
   "metadata": {},
   "outputs": [],
   "source": [
    "df.columns"
   ]
  },
  {
   "cell_type": "code",
   "execution_count": null,
   "metadata": {},
   "outputs": [],
   "source": [
    "df.head()"
   ]
  },
  {
   "cell_type": "code",
   "execution_count": null,
   "metadata": {},
   "outputs": [],
   "source": [
    "df.tail()"
   ]
  },
  {
   "cell_type": "code",
   "execution_count": null,
   "metadata": {},
   "outputs": [],
   "source": [
    "df.describe()"
   ]
  },
  {
   "cell_type": "markdown",
   "metadata": {},
   "source": [
    "### Getting unique counts"
   ]
  },
  {
   "cell_type": "code",
   "execution_count": null,
   "metadata": {},
   "outputs": [],
   "source": [
    "unique_player_count = df['Player Name'].nunique()\n",
    "print(f\"Unique number of players: {unique_player_count}\")"
   ]
  },
  {
   "cell_type": "code",
   "execution_count": null,
   "metadata": {},
   "outputs": [],
   "source": [
    "unique_players_by_position = df.groupby('Player Position')['Player Name'].nunique()\n",
    "print(unique_players_by_position)"
   ]
  },
  {
   "cell_type": "markdown",
   "metadata": {},
   "source": [
    "### Correlation"
   ]
  },
  {
   "cell_type": "code",
   "execution_count": null,
   "metadata": {},
   "outputs": [],
   "source": [
    "corr = df.corr()\n",
    "plt.figure(figsize=(12,10))\n",
    "sns.heatmap(corr, annot=True, fmt=\".2f\")"
   ]
  },
  {
   "cell_type": "code",
   "execution_count": null,
   "metadata": {},
   "outputs": [],
   "source": [
    "correlation = df['League Position'].corr(df['Top Competition Starts Before Season'])\n",
    "print(f\"Correlation coefficient: {correlation}\")"
   ]
  },
  {
   "cell_type": "code",
   "execution_count": null,
   "metadata": {},
   "outputs": [],
   "source": [
    "correlation = df['League Position'].corr(df['Top Competition Appearances Before Season'])\n",
    "print(f\"Correlation coefficient: {correlation}\")"
   ]
  },
  {
   "cell_type": "markdown",
   "metadata": {},
   "source": [
    "### Distribution plots"
   ]
  },
  {
   "cell_type": "code",
   "execution_count": null,
   "metadata": {},
   "outputs": [],
   "source": [
    "plt.figure(figsize=(12, 8))\n",
    "\n",
    "histplot = sns.histplot(df['Age at End of Season'], bins=27, kde=False)\n",
    "\n",
    "for p in histplot.patches:\n",
    "    height = p.get_height()\n",
    "    histplot.text(x=p.get_x() + p.get_width() / 2, y=height + 5, s=f'{int(height)}', ha='center')\n",
    "\n",
    "plt.title('Distribution of Age at End of Season')\n",
    "plt.xlabel('Age at End of Season')\n",
    "plt.ylabel('Count')"
   ]
  },
  {
   "cell_type": "code",
   "execution_count": null,
   "metadata": {},
   "outputs": [],
   "source": [
    "plt.figure(figsize=(14, 6))\n",
    "displot1 = sns.displot(df['Total Starts Before Season'], bins=42, kde=False, height=6, aspect=2.33)\n",
    "for bar in displot1.ax.patches:\n",
    "    displot1.ax.annotate(format(bar.get_height()), \n",
    "                   (bar.get_x() + bar.get_width() / 2, bar.get_height()), \n",
    "                   ha='center', va='center',\n",
    "                   size=9.5, xytext=(0.5, 8),\n",
    "                   textcoords='offset points')\n",
    "plt.title('Distribution of Total Starts Before Season')"
   ]
  },
  {
   "cell_type": "code",
   "execution_count": null,
   "metadata": {},
   "outputs": [],
   "source": [
    "plt.figure(figsize=(14, 6))\n",
    "displot2 = sns.displot(df['Top Competition Starts Before Season'], bins=41, kde=False, height=6, aspect=2.33)\n",
    "for bar in displot2.ax.patches:\n",
    "    displot2.ax.annotate(format(bar.get_height()), \n",
    "                   (bar.get_x() + bar.get_width() / 2, bar.get_height()), \n",
    "                   ha='center', va='center',\n",
    "                   size=9.5, xytext=(0.5, 8),\n",
    "                   textcoords='offset points')\n",
    "plt.title('Distribution of Top Competition Starts Before Season')"
   ]
  },
  {
   "cell_type": "markdown",
   "metadata": {},
   "source": [
    "### Boxplots"
   ]
  },
  {
   "cell_type": "code",
   "execution_count": null,
   "metadata": {},
   "outputs": [],
   "source": [
    "sns.boxplot(x='Role', y='Age at End of Season', data=df)"
   ]
  },
  {
   "cell_type": "code",
   "execution_count": null,
   "metadata": {},
   "outputs": [],
   "source": [
    "sns.boxplot(x='Role', y='Total Starts Before Season', data=df)"
   ]
  },
  {
   "cell_type": "code",
   "execution_count": null,
   "metadata": {},
   "outputs": [],
   "source": [
    "sns.boxplot(x='Role', y='Top Competition Starts Before Season', data=df)"
   ]
  },
  {
   "cell_type": "code",
   "execution_count": null,
   "metadata": {},
   "outputs": [],
   "source": [
    "sns.barplot(x='Role', y='Total Starts Before Season', data=df)"
   ]
  },
  {
   "cell_type": "markdown",
   "metadata": {},
   "source": [
    "### Barplots"
   ]
  },
  {
   "cell_type": "code",
   "execution_count": null,
   "metadata": {},
   "outputs": [],
   "source": [
    "sns.barplot(x='Role', y='Top Competition Starts Before Season', data=df)"
   ]
  },
  {
   "cell_type": "markdown",
   "metadata": {},
   "source": [
    "### League grouped analysis"
   ]
  },
  {
   "cell_type": "code",
   "execution_count": null,
   "metadata": {},
   "outputs": [],
   "source": [
    "grouped_data = df.groupby('League Position')['Total Starts Before Season'].mean().reset_index()\n",
    "grouped_data.sort_values(by='League Position', inplace=True)"
   ]
  },
  {
   "cell_type": "code",
   "execution_count": null,
   "metadata": {},
   "outputs": [],
   "source": [
    "sns.barplot(x='League Position', y='Total Starts Before Season', data=grouped_data)\n",
    "plt.title('Average Total Starts by League Position')\n",
    "plt.xlabel('League Position')\n",
    "plt.ylabel('Average Total Starts Before Season')"
   ]
  },
  {
   "cell_type": "code",
   "execution_count": null,
   "metadata": {},
   "outputs": [],
   "source": [
    "grouped_data = df.groupby('League Position')['Top Competition Starts Before Season'].mean().reset_index()\n",
    "grouped_data.sort_values(by='League Position', inplace=True)"
   ]
  },
  {
   "cell_type": "code",
   "execution_count": null,
   "metadata": {},
   "outputs": [],
   "source": [
    "sns.barplot(x='League Position', y='Top Competition Starts Before Season', data=grouped_data)\n",
    "plt.title('Average Top Competition Starts by League Position')\n",
    "plt.xlabel('League Position')\n",
    "plt.ylabel('Average Top Competition Starts Before Season')"
   ]
  },
  {
   "cell_type": "code",
   "execution_count": null,
   "metadata": {},
   "outputs": [],
   "source": [
    "sns.boxplot(x='League Position', y='Total Starts Before Season', data=df)\n",
    "plt.title('Total Starts Before Season by League Position')\n",
    "plt.xlabel('League Position')\n",
    "plt.ylabel('Total Starts Before Season')"
   ]
  },
  {
   "cell_type": "code",
   "execution_count": null,
   "metadata": {},
   "outputs": [],
   "source": [
    "sns.boxplot(x='League Position', y='Top Competition Starts Before Season', data=df)\n",
    "plt.title('Top Competition Starts Before Season by League Position')\n",
    "plt.xlabel('League Position')\n",
    "plt.ylabel('Top Competition Starts Before Season')"
   ]
  },
  {
   "cell_type": "markdown",
   "metadata": {},
   "source": [
    "## The teams"
   ]
  },
  {
   "cell_type": "markdown",
   "metadata": {},
   "source": [
    "### Unique teams"
   ]
  },
  {
   "cell_type": "code",
   "execution_count": null,
   "metadata": {},
   "outputs": [],
   "source": [
    "unique_teams = df['Team'].unique()\n",
    "teams_df = pd.DataFrame(unique_teams, columns=['Team'])\n",
    "print(teams_df)"
   ]
  },
  {
   "cell_type": "code",
   "execution_count": null,
   "metadata": {},
   "outputs": [],
   "source": [
    "teams_array = teams_df['Team'].values.reshape(10, 4)\n",
    "reshaped_teams_df = pd.DataFrame(teams_array, columns=['PL Teams','PL Teams','PL Teams','PL Teams'])\n",
    "\n",
    "output_directory = 'analysis_output\\\\csv'\n",
    "os.makedirs(output_directory, exist_ok=True)\n",
    "\n",
    "csv_file_path = os.path.join(output_directory, 'unique_teams_2008-2023.csv')\n",
    "reshaped_teams_df.to_csv(csv_file_path, index=False)\n",
    "\n",
    "print(f\"Saved reshaped DataFrame to {csv_file_path}\")"
   ]
  },
  {
   "cell_type": "code",
   "execution_count": null,
   "metadata": {},
   "outputs": [],
   "source": [
    "unique_seasons_set = set(df['Season'].unique())\n",
    "\n",
    "teams_in_all_seasons = []\n",
    "\n",
    "for team in df['Team'].unique():\n",
    "    team_seasons_set = set(df[df['Team'] == team]['Season'].unique())\n",
    "\n",
    "    if team_seasons_set == unique_seasons_set:\n",
    "        teams_in_all_seasons.append(team)\n",
    "\n",
    "teams_in_all_seasons_df = pd.DataFrame(teams_in_all_seasons, columns=['Team'])\n",
    "\n",
    "print(teams_in_all_seasons_df)"
   ]
  },
  {
   "cell_type": "markdown",
   "metadata": {},
   "source": [
    "### League averages"
   ]
  },
  {
   "cell_type": "code",
   "execution_count": null,
   "metadata": {},
   "outputs": [],
   "source": [
    "df['League Position'] = pd.to_numeric(df['League Position'], errors='coerce')\n",
    "average_positions = df.groupby('Team')['League Position'].mean().sort_values()"
   ]
  },
  {
   "cell_type": "code",
   "execution_count": null,
   "metadata": {},
   "outputs": [],
   "source": [
    "plt.figure(figsize=(10, 8))\n",
    "sns.barplot(x=average_positions.values, y=average_positions.index)\n",
    "\n",
    "plt.title('Average League Position of Premier League Teams (2008-2023)')\n",
    "plt.xlabel('Average Position')\n",
    "plt.ylabel('Team')"
   ]
  },
  {
   "cell_type": "code",
   "execution_count": null,
   "metadata": {},
   "outputs": [],
   "source": [
    "plt.figure(figsize=(12, 10))\n",
    "sns_barplot = sns.barplot(x=average_positions.values, y=average_positions.index)\n",
    "\n",
    "plt.title('Average League Position of Premier League Teams (2008-2023)')\n",
    "plt.xlabel('Average Position')\n",
    "plt.ylabel('Team')\n",
    "\n",
    "for p in sns_barplot.patches:\n",
    "    width = p.get_width()\n",
    "    sns_barplot.text(width + 0.1,\n",
    "                     p.get_y() + p.get_height() / 2,\n",
    "                     '{:1.2f}'.format(width),\n",
    "                     ha = 'center',\n",
    "                     va = 'center')"
   ]
  },
  {
   "cell_type": "code",
   "execution_count": null,
   "metadata": {},
   "outputs": [],
   "source": [
    "league_tables_dir = 'league_table'\n",
    "all_seasons_df = []\n",
    "\n",
    "for filename in os.listdir(league_tables_dir):\n",
    "    if filename.endswith('.csv'):\n",
    "        season = filename.split('_')[3].split('.')[0]\n",
    "        start_year = int(season.split('-')[0])\n",
    "        if 2008 <= start_year <= 2022:\n",
    "            season_df = pd.read_csv(os.path.join(league_tables_dir, filename))\n",
    "            season_df[['Goals For', 'Goals Against']] = season_df['Goals'].str.split(':', expand=True).iloc[:, :2]\n",
    "            season_df['Goals For'] = pd.to_numeric(season_df['Goals For'], errors='coerce')\n",
    "            season_df['Goals Against'] = pd.to_numeric(season_df['Goals Against'], errors='coerce')\n",
    "            season_df['Points'] = pd.to_numeric(season_df['Points'], errors='coerce')\n",
    "            season_df['Season'] = season\n",
    "            all_seasons_df.append(season_df)\n",
    "\n",
    "league_df = pd.concat(all_seasons_df, ignore_index=True)\n",
    "\n",
    "league_df = league_df[['Team', 'Points', 'Goals For', 'Goals Against', 'Season']]\n",
    "\n",
    "team_averages = league_df.groupby('Team').mean()"
   ]
  },
  {
   "cell_type": "code",
   "execution_count": null,
   "metadata": {},
   "outputs": [],
   "source": [
    "team_averages = team_averages.sort_values('Points', ascending=False)\n",
    "\n",
    "plt.figure(figsize=(12, 10))\n",
    "\n",
    "sns_barplot = sns.barplot(x=team_averages['Points'].values, y=team_averages.index)\n",
    "plt.title('Average Points of Premier League Teams (2008-2023)')\n",
    "plt.xlabel('Average Points')\n",
    "plt.ylabel('Team')\n",
    "\n",
    "for p in sns_barplot.patches:\n",
    "    width = p.get_width()\n",
    "    plt.text(width + 0.5,\n",
    "             p.get_y() + p.get_height() / 2,\n",
    "             f'{width:.1f}',\n",
    "             va='center')"
   ]
  },
  {
   "cell_type": "code",
   "execution_count": null,
   "metadata": {},
   "outputs": [],
   "source": [
    "team_goals_averages = league_df.groupby('Team')[['Goals For', 'Goals Against']].mean()"
   ]
  },
  {
   "cell_type": "code",
   "execution_count": null,
   "metadata": {},
   "outputs": [],
   "source": [
    "team_goals_averages_sorted_gf = team_goals_averages.sort_values('Goals For', ascending=False)\n",
    "\n",
    "plt.figure(figsize=(12, 10))\n",
    "sns_barplot_gf = sns.barplot(x=team_goals_averages_sorted_gf['Goals For'].values, y=team_goals_averages_sorted_gf.index)\n",
    "\n",
    "for p in sns_barplot_gf.patches:\n",
    "    width = p.get_width()\n",
    "    plt.text(width + 0.1, p.get_y() + p.get_height() / 2, f'{width:.1f}', va='center')\n",
    "\n",
    "plt.title('Average Goals Scored by Premier League Teams (2008-2023)')\n",
    "plt.xlabel('Average Goals Scored')\n",
    "plt.ylabel('Team')"
   ]
  },
  {
   "cell_type": "code",
   "execution_count": null,
   "metadata": {},
   "outputs": [],
   "source": [
    "team_goals_averages_sorted_ga = team_goals_averages.sort_values('Goals Against', ascending=True)\n",
    "\n",
    "plt.figure(figsize=(12, 10))\n",
    "sns_barplot_ga = sns.barplot(x=team_goals_averages_sorted_ga['Goals Against'].values, y=team_goals_averages_sorted_ga.index)\n",
    "\n",
    "for p in sns_barplot_ga.patches:\n",
    "    width = p.get_width()\n",
    "    plt.text(width + 0.1, p.get_y() + p.get_height() / 2, f'{width:.1f}', va='center')\n",
    "\n",
    "plt.title('Average Goals Conceded by Premier League Teams (2008-2023)')\n",
    "plt.xlabel('Average Goals Conceded')\n",
    "plt.ylabel('Team')"
   ]
  },
  {
   "cell_type": "markdown",
   "metadata": {},
   "source": [
    "### Overall age and experience"
   ]
  },
  {
   "cell_type": "code",
   "execution_count": null,
   "metadata": {},
   "outputs": [],
   "source": [
    "df_sorted = df.sort_values(by=['Player URL', 'Season'])\n",
    "df_first_age = df_sorted.drop_duplicates(subset='Player URL', keep='first')\n",
    "df_final_age = df_sorted.drop_duplicates(subset='Player URL', keep='last')"
   ]
  },
  {
   "cell_type": "code",
   "execution_count": null,
   "metadata": {},
   "outputs": [],
   "source": [
    "plt.figure(figsize=(12, 8))\n",
    "histplot_first = sns.histplot(df_first_age['Age at End of Season'], bins=25, kde=False)\n",
    "for p in histplot_first.patches:\n",
    "    height = p.get_height()\n",
    "    histplot_first.text(x=p.get_x() + p.get_width() / 2, y=height + 5, s=f'{int(height)}', ha='center')\n",
    "plt.title('Distribution of Initial Age in the Premier League')\n",
    "plt.xlabel('First Age at End of Season')\n",
    "plt.ylabel('Count')"
   ]
  },
  {
   "cell_type": "code",
   "execution_count": null,
   "metadata": {},
   "outputs": [],
   "source": [
    "plt.figure(figsize=(12, 8))\n",
    "histplot_final = sns.histplot(df_final_age['Age at End of Season'], bins=27, kde=False)\n",
    "for p in histplot_final.patches:\n",
    "    height = p.get_height()\n",
    "    histplot_final.text(x=p.get_x() + p.get_width() / 2, y=height + 5, s=f'{int(height)}', ha='center')\n",
    "plt.title('Distribution of Final Age in the Premier League')\n",
    "plt.xlabel('Final Age at End of Season')\n",
    "plt.ylabel('Count')"
   ]
  },
  {
   "cell_type": "code",
   "execution_count": null,
   "metadata": {},
   "outputs": [],
   "source": [
    "df_sorted = df.sort_values(by=['Player URL', 'Season'])\n",
    "df_initial_experience = df_sorted.drop_duplicates(subset='Player URL', keep='first')"
   ]
  },
  {
   "cell_type": "code",
   "execution_count": null,
   "metadata": {},
   "outputs": [],
   "source": [
    "plt.figure(figsize=(16, 8))\n",
    "histplot_total_starts_initial = sns.histplot(df_initial_experience['Total Starts Before Season'], bins=39, kde=False)\n",
    "\n",
    "offset = 0.3\n",
    "\n",
    "for p in histplot_total_starts_initial.patches:\n",
    "    height = p.get_height()\n",
    "    histplot_total_starts_initial.text(x=p.get_x() + p.get_width() / 2 + offset, y=height + 5, s=f'{int(height)}', ha='center')\n",
    "\n",
    "plt.title('Initial Total Starts Before Season for Each Player')\n",
    "plt.xlabel('Total Starts Before Season')\n",
    "plt.ylabel('Count')"
   ]
  },
  {
   "cell_type": "code",
   "execution_count": null,
   "metadata": {},
   "outputs": [],
   "source": [
    "plt.figure(figsize=(12, 8))\n",
    "histplot_top_starts_initial = sns.histplot(df_initial_experience['Top Competition Starts Before Season'], bins=35, kde=False)\n",
    "for p in histplot_top_starts_initial.patches:\n",
    "    height = p.get_height()\n",
    "    histplot_top_starts_initial.text(x=p.get_x() + p.get_width() / 2, y=height + 5, s=f'{int(height)}', ha='center')\n",
    "plt.title('Initial Top Competition Starts Before Season for Each Player')\n",
    "plt.xlabel('Top Competition Starts Before Season')\n",
    "plt.ylabel('Count')"
   ]
  },
  {
   "cell_type": "code",
   "execution_count": null,
   "metadata": {},
   "outputs": [],
   "source": [
    "df_final_experience = df_sorted.drop_duplicates(subset='Player URL', keep='last')"
   ]
  },
  {
   "cell_type": "code",
   "execution_count": null,
   "metadata": {},
   "outputs": [],
   "source": [
    "plt.figure(figsize=(12, 8))\n",
    "histplot_total_starts_final = sns.histplot(df_final_experience['Total Starts Before Season'], bins=50, kde=False)\n",
    "for p in histplot_total_starts_final.patches:\n",
    "    height = p.get_height()\n",
    "    histplot_total_starts_final.text(x=p.get_x() + p.get_width() / 2, y=height + 5, s=f'{int(height)}', ha='center')\n",
    "plt.title('Final Total Starts Before Season for Each Player')\n",
    "plt.xlabel('Total Starts Before Season')\n",
    "plt.ylabel('Count')"
   ]
  },
  {
   "cell_type": "code",
   "execution_count": null,
   "metadata": {},
   "outputs": [],
   "source": [
    "plt.figure(figsize=(16, 10))\n",
    "histplot_top_starts_final = sns.histplot(df_final_experience['Top Competition Starts Before Season'], bins=50, kde=False)\n",
    "for p in histplot_top_starts_final.patches:\n",
    "    height = p.get_height()\n",
    "    histplot_top_starts_final.text(x=p.get_x() + p.get_width() / 2, y=height + 5, s=f'{int(height)}', ha='center')\n",
    "plt.title('Final Top Competition Starts Before Season for Each Player')\n",
    "plt.xlabel('Top Competition Starts Before Season')\n",
    "plt.ylabel('Count')"
   ]
  },
  {
   "cell_type": "markdown",
   "metadata": {},
   "source": [
    "## The players"
   ]
  },
  {
   "cell_type": "markdown",
   "metadata": {},
   "source": [
    "### Unique players"
   ]
  },
  {
   "cell_type": "code",
   "execution_count": null,
   "metadata": {},
   "outputs": [],
   "source": [
    "df.shape"
   ]
  },
  {
   "cell_type": "code",
   "execution_count": null,
   "metadata": {},
   "outputs": [],
   "source": [
    "unique_player_count = df['Player Name'].nunique()\n",
    "print(f\"Unique number of players: {unique_player_count}\")"
   ]
  },
  {
   "cell_type": "code",
   "execution_count": null,
   "metadata": {},
   "outputs": [],
   "source": [
    "unique_players_by_position = df.groupby('Player Position')['Player Name'].nunique()\n",
    "print(unique_players_by_position)"
   ]
  },
  {
   "cell_type": "markdown",
   "metadata": {},
   "source": [
    "### The average player"
   ]
  },
  {
   "cell_type": "code",
   "execution_count": null,
   "metadata": {},
   "outputs": [],
   "source": [
    "player_career_data = df.groupby('Player URL').agg(\n",
    "    Total_PL_Starts=('PL Starts This Season', 'sum'),\n",
    "    Total_PL_Appearances=('PL Appearances This Season', 'sum'),\n",
    "    Total_Seasons=('Season', 'nunique')\n",
    ")\n",
    "\n",
    "average_starts = player_career_data['Total_PL_Starts'].mean()\n",
    "average_appearances = player_career_data['Total_PL_Appearances'].mean()\n",
    "average_seasons = player_career_data['Total_Seasons'].mean()\n",
    "\n",
    "print(f\"Average Premier League Starts: {average_starts:.2f}\")\n",
    "print(f\"Average Premier League Appearances: {average_appearances:.2f}\")\n",
    "print(f\"Average Number of Seasons in Premier League: {average_seasons:.2f}\")"
   ]
  },
  {
   "cell_type": "markdown",
   "metadata": {},
   "source": [
    "### Top appearances and starts"
   ]
  },
  {
   "cell_type": "code",
   "execution_count": null,
   "metadata": {},
   "outputs": [],
   "source": [
    "player_totals = df.groupby('Player Name').agg(\n",
    "    Total_PL_Appearances=('PL Appearances This Season', 'sum'),\n",
    "    Total_PL_Starts=('PL Starts This Season', 'sum')\n",
    ").reset_index()"
   ]
  },
  {
   "cell_type": "code",
   "execution_count": null,
   "metadata": {},
   "outputs": [],
   "source": [
    "top_appearances_players = player_totals.sort_values(by='Total_PL_Appearances', ascending=False).head(10)['Player Name']\n",
    "\n",
    "top_starts_players = player_totals.sort_values(by='Total_PL_Starts', ascending=False).head(10)['Player Name']"
   ]
  },
  {
   "cell_type": "code",
   "execution_count": null,
   "metadata": {},
   "outputs": [],
   "source": [
    "df_top_appearances_info = df[df['Player Name'].isin(top_appearances_players)]\n",
    "\n",
    "df_top_starts_info = df[df['Player Name'].isin(top_starts_players)]"
   ]
  },
  {
   "cell_type": "code",
   "execution_count": null,
   "metadata": {},
   "outputs": [],
   "source": [
    "def summarize_player_appearances(df):\n",
    "    summarized_df = df.groupby('Player Name').agg({\n",
    "        'Team': lambda x: ', '.join(sorted(set(x))),\n",
    "        'Season': lambda x: f'{min(x, key=lambda s: int(s.split(\"-\")[0]))}/{max(x, key=lambda s: int(s.split(\"-\")[1]))}',\n",
    "        'PL Appearances This Season': 'sum'\n",
    "    }).reset_index()\n",
    "    return summarized_df"
   ]
  },
  {
   "cell_type": "code",
   "execution_count": null,
   "metadata": {},
   "outputs": [],
   "source": [
    "def summarize_player_starts(df):\n",
    "    summarized_df = df.groupby('Player Name').agg({\n",
    "        'Team': lambda x: ', '.join(sorted(set(x))),\n",
    "        'Season': lambda x: f'{min(x, key=lambda s: int(s.split(\"-\")[0]))}/{max(x, key=lambda s: int(s.split(\"-\")[1]))}',\n",
    "        'PL Starts This Season': 'sum'\n",
    "    }).reset_index()\n",
    "    return summarized_df"
   ]
  },
  {
   "cell_type": "code",
   "execution_count": null,
   "metadata": {},
   "outputs": [],
   "source": [
    "summarized_top_appearances = summarize_player_appearances(df_top_appearances_info)\n",
    "summarized_top_appearances = summarized_top_appearances.sort_values(by='PL Appearances This Season', ascending=False).reset_index(drop=True)\n",
    "\n",
    "summarized_top_starts = summarize_player_starts(df_top_starts_info)\n",
    "summarized_top_starts = summarized_top_starts.sort_values(by='PL Starts This Season', ascending=False).reset_index(drop=True)"
   ]
  },
  {
   "cell_type": "code",
   "execution_count": null,
   "metadata": {},
   "outputs": [],
   "source": [
    "output_dir = 'analysis_output\\\\csv'\n",
    "os.makedirs(output_dir, exist_ok=True)\n",
    "\n",
    "summarized_top_appearances.to_csv(os.path.join(output_dir, 'top_appearances_players.csv'), index=False)\n",
    "summarized_top_starts.to_csv(os.path.join(output_dir, 'top_starts_players.csv'), index=False)"
   ]
  },
  {
   "cell_type": "markdown",
   "metadata": {},
   "source": [
    "### Top goals"
   ]
  },
  {
   "cell_type": "code",
   "execution_count": null,
   "metadata": {},
   "outputs": [],
   "source": [
    "player_name_mapping = {}\n",
    "season_summaries_dir = 'season_summaries'\n",
    "for summary_filename in os.listdir(season_summaries_dir):\n",
    "    if summary_filename.endswith('.csv') and not summary_filename.startswith('2023-2024'):\n",
    "        summary_filepath = os.path.join(season_summaries_dir, summary_filename)\n",
    "        summary_df = pd.read_csv(summary_filepath)\n",
    "        for index, row in summary_df.iterrows():\n",
    "            player_folder = row['Player URL'].rstrip('/').split('/')[-1]\n",
    "            player_name_mapping[player_folder] = row['Player Name']"
   ]
  },
  {
   "cell_type": "code",
   "execution_count": null,
   "metadata": {},
   "outputs": [],
   "source": [
    "def is_valid_season_format(season):\n",
    "    return bool(re.match(r'^\\d{4}/\\d{4}$', season))"
   ]
  },
  {
   "cell_type": "code",
   "execution_count": null,
   "metadata": {},
   "outputs": [],
   "source": [
    "player_goals_list = []\n",
    "top_players_dir = 'top_players'\n",
    "\n",
    "if os.path.exists(top_players_dir):\n",
    "    for player_folder in os.listdir(top_players_dir):\n",
    "        player_path = os.path.join(top_players_dir, player_folder)\n",
    "        career_data_file = os.path.join(player_path, f\"{player_folder}_career_data.csv\")\n",
    "        if os.path.exists(career_data_file):\n",
    "            player_stats = pd.read_csv(career_data_file)\n",
    "            player_stats['Season'] = player_stats['Season'].astype(str)\n",
    "            pl_stats = player_stats[\n",
    "                (player_stats['League'] == 'Pr. League') &\n",
    "                (player_stats['Season'].apply(is_valid_season_format))\n",
    "            ]\n",
    "            pl_stats = pl_stats[pl_stats['Season'].apply(lambda s: 2008 <= int(s.split('/')[0]) <= 2023)]\n",
    "            \n",
    "            if not pl_stats.empty:\n",
    "                total_goals = pl_stats['Goals'].sum()\n",
    "                teams_played_for = pl_stats['Team'].unique().tolist()\n",
    "                seasons_played = pl_stats['Season'].unique()\n",
    "\n",
    "                if seasons_played.size > 0:\n",
    "                    season_start_min = min(seasons_played, key=lambda s: int(s.split('/')[0]))\n",
    "                    season_end_max = max(seasons_played, key=lambda s: int(s.split('/')[1]))\n",
    "                    season_range = f\"{season_start_min.split('/')[0]}-{season_start_min.split('/')[1]}/{season_end_max.split('/')[0]}-{season_end_max.split('/')[1]}\"\n",
    "                else:\n",
    "                    season_range = 'N/A'\n",
    "\n",
    "                player_name = player_name_mapping.get(player_folder, player_folder)\n",
    "                player_goals_list.append({\n",
    "                    'Player Name': player_name,\n",
    "                    'Teams': ', '.join(teams_played_for),\n",
    "                    'Seasons': season_range,\n",
    "                    'Goals': total_goals\n",
    "                })\n",
    "else:\n",
    "    print(f\"The directory {top_players_dir} does not exist.\")"
   ]
  },
  {
   "cell_type": "code",
   "execution_count": null,
   "metadata": {},
   "outputs": [],
   "source": [
    "player_goals_df = pd.DataFrame(player_goals_list)\n",
    "\n",
    "player_goals_df_sorted = player_goals_df.sort_values(by='Goals', ascending=False)"
   ]
  },
  {
   "cell_type": "code",
   "execution_count": null,
   "metadata": {},
   "outputs": [],
   "source": [
    "output_dir = 'analysis_output/csv'\n",
    "os.makedirs(output_dir, exist_ok=True)\n",
    "output_filepath = os.path.join(output_dir, 'top_goalscorers.csv')\n",
    "player_goals_df_sorted.to_csv(output_filepath, index=False)\n",
    "\n",
    "print(f\"Top goalscorers data saved to {output_filepath}\")"
   ]
  },
  {
   "cell_type": "code",
   "execution_count": null,
   "metadata": {},
   "outputs": [],
   "source": [
    "top_10_goalscorers = player_goals_df_sorted = player_goals_df.sort_values(by='Goals', ascending=False).head(10)"
   ]
  },
  {
   "cell_type": "code",
   "execution_count": null,
   "metadata": {},
   "outputs": [],
   "source": [
    "output_directory = 'analysis_output\\\\csv'\n",
    "output_file = 'top_10_premier_league_goalscorers.csv'\n",
    "\n",
    "os.makedirs(output_directory, exist_ok=True)\n",
    "\n",
    "output_path = os.path.join(output_directory, output_file)\n",
    "top_10_goalscorers.to_csv(output_path, index=False)\n",
    "\n",
    "print(f\"Top 10 Premier League goalscorers saved to {output_path}\")"
   ]
  },
  {
   "cell_type": "markdown",
   "metadata": {},
   "source": [
    "### Average league position"
   ]
  },
  {
   "cell_type": "code",
   "execution_count": null,
   "metadata": {},
   "outputs": [],
   "source": [
    "def format_season_range(seasons):\n",
    "    years = []\n",
    "    for season in seasons:\n",
    "        start_year, end_year = season.split('-')\n",
    "        start_year = int(start_year)\n",
    "        end_year = int(end_year)\n",
    "        years.append((start_year, end_year))\n",
    "    \n",
    "    min_start_year = min(years, key=lambda x: x[0])[0]\n",
    "    max_end_year = max(years, key=lambda x: x[1])[1]\n",
    "\n",
    "    return f\"{min_start_year}-{min_start_year + 1}/{max_end_year}-{max_end_year + 1}\""
   ]
  },
  {
   "cell_type": "code",
   "execution_count": null,
   "metadata": {},
   "outputs": [],
   "source": [
    "df['PL Appearances This Season'] = pd.to_numeric(df['PL Appearances This Season'], errors='coerce')\n",
    "\n",
    "players_over_200_appearances = df.groupby('Player Name')['PL Appearances This Season'].sum()\n",
    "players_over_200_appearances = players_over_200_appearances[players_over_200_appearances > 200]\n",
    "\n",
    "df_filtered = df[df['Player Name'].isin(players_over_200_appearances.index)]\n",
    "\n",
    "df_filtered['League Position'] = pd.to_numeric(df_filtered['League Position'], errors='coerce')\n",
    "player_avg_positions = df_filtered.groupby('Player Name')['League Position'].mean().reset_index()\n",
    "\n",
    "player_avg_positions['League Position'] = player_avg_positions['League Position'].round(2)\n",
    "\n",
    "player_additional_info = df_filtered.groupby('Player Name').agg({\n",
    "    'Player Position': 'first',\n",
    "    'Season': lambda x: format_season_range(sorted(set(x))),\n",
    "    'Team': lambda x: ', '.join(sorted(set(x)))\n",
    "}).reset_index()\n",
    "\n",
    "merged_df = pd.merge(player_avg_positions, player_additional_info, on='Player Name')\n",
    "\n",
    "merged_df = merged_df.sort_values(by='League Position', ascending=True)\n",
    "\n",
    "top_20_players_avg_position = merged_df.head(20)"
   ]
  },
  {
   "cell_type": "code",
   "execution_count": null,
   "metadata": {},
   "outputs": [],
   "source": [
    "output_directory = 'analysis_output/csv'\n",
    "os.makedirs(output_directory, exist_ok=True)\n",
    "\n",
    "complete_list_file = os.path.join(output_directory, 'complete_list_avg_league_positions.csv')\n",
    "merged_df.to_csv(complete_list_file, index=False)\n",
    "\n",
    "top_20_list_file = os.path.join(output_directory, 'top_20_players_avg_league_positions.csv')\n",
    "top_20_players_avg_position.to_csv(top_20_list_file, index=False)\n",
    "\n",
    "print(f\"Complete list saved to {complete_list_file}\")\n",
    "print(f\"Top 10 list saved to {top_20_list_file}\")"
   ]
  },
  {
   "cell_type": "markdown",
   "metadata": {},
   "source": [
    "### The positional averages"
   ]
  },
  {
   "cell_type": "code",
   "execution_count": null,
   "metadata": {},
   "outputs": [],
   "source": [
    "average_stats_by_position = df.groupby('Player Position').agg({\n",
    "    'Age at End of Season': 'mean',\n",
    "    'Top Competition Starts Before Season': 'mean',\n",
    "    'Top Competition Appearances Before Season': 'mean',\n",
    "    'Total Starts Before Season': 'mean',\n",
    "    'Total Appearances Before Season': 'mean'\n",
    "}).reset_index()\n",
    "\n",
    "average_stats_by_position = average_stats_by_position.round(0)\n",
    "\n",
    "print(average_stats_by_position)"
   ]
  },
  {
   "cell_type": "code",
   "execution_count": null,
   "metadata": {},
   "outputs": [],
   "source": [
    "position_order = ['Goalkeeper', 'Defender', 'Midfielder', 'Forward']\n",
    "\n",
    "average_stats_by_position = df.groupby('Player Position').agg({\n",
    "    'Age at End of Season': 'mean',\n",
    "    'Top Competition Starts Before Season': 'mean',\n",
    "    'Top Competition Appearances Before Season': 'mean',\n",
    "    'Total Starts Before Season': 'mean',\n",
    "    'Total Appearances Before Season': 'mean'\n",
    "}).reset_index()\n",
    "\n",
    "average_stats_by_position = average_stats_by_position.round(0).astype({'Age at End of Season': int, \n",
    "                                                                       'Top Competition Starts Before Season': int, \n",
    "                                                                       'Top Competition Appearances Before Season': int, \n",
    "                                                                       'Total Starts Before Season': int, \n",
    "                                                                       'Total Appearances Before Season': int})\n",
    "\n",
    "average_stats_by_position['Player Position'] = pd.Categorical(average_stats_by_position['Player Position'], categories=position_order, ordered=True)\n",
    "\n",
    "average_stats_by_position = average_stats_by_position.sort_values('Player Position')"
   ]
  },
  {
   "cell_type": "code",
   "execution_count": null,
   "metadata": {},
   "outputs": [],
   "source": [
    "average_stats_by_position"
   ]
  },
  {
   "cell_type": "code",
   "execution_count": null,
   "metadata": {},
   "outputs": [],
   "source": [
    "output_directory = 'analysis_output/csv'\n",
    "os.makedirs(output_directory, exist_ok=True)\n",
    "output_file_path = os.path.join(output_directory, 'positional_averages.csv')\n",
    "average_stats_by_position.to_csv(output_file_path, index=False)\n",
    "\n",
    "print(f\"Positional averages saved to {output_file_path}\")"
   ]
  },
  {
   "cell_type": "markdown",
   "metadata": {},
   "source": [
    "#### Role breakdown"
   ]
  },
  {
   "cell_type": "code",
   "execution_count": null,
   "metadata": {},
   "outputs": [],
   "source": [
    "role_counts_by_position = df.groupby(['Player Position', 'Role']).size().unstack(fill_value=0)\n",
    "\n",
    "total_role_counts = df['Role'].value_counts()"
   ]
  },
  {
   "cell_type": "code",
   "execution_count": null,
   "metadata": {},
   "outputs": [],
   "source": [
    "colors = ['blue', 'green', 'red']\n",
    "\n",
    "for position in role_counts_by_position.index:\n",
    "    role_counts = role_counts_by_position.loc[position]\n",
    "    role_counts.plot(kind='bar', figsize=(10, 6), rot=0, color=colors)\n",
    "    plt.title(f'Role Breakdown for {position}')\n",
    "    plt.xlabel('Role')\n",
    "    plt.ylabel('Count of Players')\n",
    "    plt.xticks([0, 1, 2], ['1st Choice', '2nd Choice', '3rd Choice'])\n",
    "    plt.show()"
   ]
  },
  {
   "cell_type": "code",
   "execution_count": null,
   "metadata": {},
   "outputs": [],
   "source": [
    "role_counts = df.groupby(['Player Position', 'Role']).size().reset_index(name='Count')\n",
    "\n",
    "total_by_position = role_counts.groupby('Player Position')['Count'].transform('sum')\n",
    "\n",
    "role_counts['Percentage'] = (role_counts['Count'] / total_by_position) * 100\n",
    "\n",
    "role_percentages = role_counts.pivot(index='Player Position', columns='Role', values='Percentage')\n",
    "\n",
    "print(role_percentages)"
   ]
  },
  {
   "cell_type": "code",
   "execution_count": null,
   "metadata": {},
   "outputs": [],
   "source": [
    "colors = ['blue', 'green', 'red']\n",
    "\n",
    "for position in role_percentages.index:\n",
    "    role_percentage = role_percentages.loc[position]\n",
    "    role_percentage.plot(kind='bar', figsize=(10, 6), rot=0, color=colors)\n",
    "    plt.title(f'Role Percentage Breakdown for {position}')\n",
    "    plt.xlabel('Role')\n",
    "    plt.ylabel('Percentage')\n",
    "    plt.xticks([0, 1, 2], ['1st Choice', '2nd Choice', '3rd Choice'])\n",
    "    plt.show()"
   ]
  },
  {
   "cell_type": "code",
   "execution_count": null,
   "metadata": {},
   "outputs": [],
   "source": [
    "reshaped_df = df.groupby(['Player Position', 'Role']).size().reset_index(name='Count')\n",
    "reshaped_df = reshaped_df.pivot(index='Player Position', columns='Role', values='Count').fillna(0)\n",
    "\n",
    "plt.figure(figsize=(12, 8))\n",
    "reshaped_df.plot(kind='bar', stacked=True)\n",
    "plt.title('Combined Role Breakdown Across Positions')\n",
    "plt.xlabel('Player Position')\n",
    "plt.ylabel('Count of Players')\n",
    "plt.xticks(rotation=45)\n",
    "plt.legend(title='Role')"
   ]
  },
  {
   "cell_type": "code",
   "execution_count": null,
   "metadata": {},
   "outputs": [],
   "source": [
    "position_order = ['Goalkeeper', 'Defender', 'Midfielder', 'Forward']\n",
    "role_percentages = role_percentages.reindex(position_order)\n",
    "\n",
    "plt.figure(figsize=(16, 10))\n",
    "bar_width = 0.25\n",
    "index = np.arange(len(position_order))\n",
    "\n",
    "for i, role in enumerate(role_percentages.columns):\n",
    "    plt.bar(index + i * bar_width, role_percentages[role], bar_width, label=role)\n",
    "\n",
    "plt.xlabel('Player Position')\n",
    "plt.ylabel('Percentage')\n",
    "plt.title('Percentage Role Breakdown Across Positions')\n",
    "plt.xticks(index + bar_width, position_order)\n",
    "plt.legend(title='Role')"
   ]
  },
  {
   "cell_type": "code",
   "execution_count": null,
   "metadata": {},
   "outputs": [],
   "source": [
    "position_order = ['Goalkeeper', 'Defender', 'Midfielder', 'Forward']\n",
    "role_percentages = role_percentages.reindex(position_order)\n",
    "\n",
    "plt.figure(figsize=(16, 10))\n",
    "bar_width = 0.25\n",
    "index = np.arange(len(position_order))\n",
    "\n",
    "bars = []\n",
    "\n",
    "for i, role in enumerate(role_percentages.columns):\n",
    "    bar = plt.bar(index + i * bar_width, role_percentages[role], bar_width, label=role)\n",
    "    bars.append(bar)\n",
    "\n",
    "plt.xlabel('Player Position')\n",
    "plt.ylabel('Percentage')\n",
    "plt.title('Percentage Role Breakdown Across Positions')\n",
    "plt.xticks(index + bar_width, position_order)\n",
    "plt.legend(title='Role')\n",
    "\n",
    "for bar in bars:\n",
    "    for rect in bar:\n",
    "        height = rect.get_height()\n",
    "        plt.text(rect.get_x() + rect.get_width() / 2.0, height, f'{height:.1f}%', ha='center', va='bottom')"
   ]
  },
  {
   "cell_type": "markdown",
   "metadata": {},
   "source": [
    "## ...and can you win anything with kids?"
   ]
  },
  {
   "cell_type": "markdown",
   "metadata": {},
   "source": [
    "### Top six teams"
   ]
  },
  {
   "cell_type": "code",
   "execution_count": null,
   "metadata": {},
   "outputs": [],
   "source": [
    "avg_league_positions = df.groupby('Team')['League Position'].mean().sort_values().reset_index()\n",
    "\n",
    "top_six_teams = avg_league_positions.head(6)['Team'].tolist()"
   ]
  },
  {
   "cell_type": "code",
   "execution_count": null,
   "metadata": {},
   "outputs": [],
   "source": [
    "top_six_teams"
   ]
  },
  {
   "cell_type": "code",
   "execution_count": null,
   "metadata": {},
   "outputs": [],
   "source": [
    "df_top_six = df[df['Team'].isin(top_six_teams)]"
   ]
  },
  {
   "cell_type": "code",
   "execution_count": null,
   "metadata": {},
   "outputs": [],
   "source": [
    "df_top_six"
   ]
  },
  {
   "cell_type": "code",
   "execution_count": null,
   "metadata": {},
   "outputs": [],
   "source": [
    "df_top_six.columns"
   ]
  },
  {
   "cell_type": "markdown",
   "metadata": {},
   "source": [
    "### Average ages in the top six"
   ]
  },
  {
   "cell_type": "code",
   "execution_count": null,
   "metadata": {},
   "outputs": [],
   "source": [
    "avg_age_by_team = df_top_six.groupby('Team')['Age at End of Season'].mean().reset_index()\n",
    "avg_age_by_team.rename(columns={'Age at End of Season': 'Average Age'}, inplace=True)"
   ]
  },
  {
   "cell_type": "code",
   "execution_count": null,
   "metadata": {},
   "outputs": [],
   "source": [
    "first_appearance = df_top_six.groupby(['Player Name', 'Team'])['Season'].min().reset_index()\n",
    "first_appearance = pd.merge(first_appearance, df_top_six[['Player Name', 'Season', 'Age at End of Season']], \n",
    "                            left_on=['Player Name', 'Season'], right_on=['Player Name', 'Season'])\n",
    "entry_age_by_team = first_appearance.groupby('Team')['Age at End of Season'].mean().reset_index()\n",
    "entry_age_by_team.rename(columns={'Age at End of Season': 'Entry Age'}, inplace=True)"
   ]
  },
  {
   "cell_type": "code",
   "execution_count": null,
   "metadata": {},
   "outputs": [],
   "source": [
    "last_appearance = df_top_six.groupby(['Player Name', 'Team'])['Season'].max().reset_index()\n",
    "last_appearance = pd.merge(last_appearance, df_top_six[['Player Name', 'Season', 'Age at End of Season']], \n",
    "                           left_on=['Player Name', 'Season'], right_on=['Player Name', 'Season'])\n",
    "exit_age_by_team = last_appearance.groupby('Team')['Age at End of Season'].mean().reset_index()\n",
    "exit_age_by_team.rename(columns={'Age at End of Season': 'Exit Age'}, inplace=True)"
   ]
  },
  {
   "cell_type": "code",
   "execution_count": null,
   "metadata": {},
   "outputs": [],
   "source": [
    "age_overview = pd.merge(avg_age_by_team, entry_age_by_team, on='Team')\n",
    "age_overview = pd.merge(age_overview, exit_age_by_team, on='Team')"
   ]
  },
  {
   "cell_type": "code",
   "execution_count": null,
   "metadata": {},
   "outputs": [],
   "source": [
    "age_overview"
   ]
  },
  {
   "cell_type": "code",
   "execution_count": null,
   "metadata": {},
   "outputs": [],
   "source": [
    "output_directory = 'analysis_output/csv'\n",
    "os.makedirs(output_directory, exist_ok=True)"
   ]
  },
  {
   "cell_type": "code",
   "execution_count": null,
   "metadata": {},
   "outputs": [],
   "source": [
    "age_overview['Average Age'] = age_overview['Average Age'].round(2)\n",
    "age_overview['Entry Age'] = age_overview['Entry Age'].round(2)\n",
    "age_overview['Exit Age'] = age_overview['Exit Age'].round(2)"
   ]
  },
  {
   "cell_type": "code",
   "execution_count": null,
   "metadata": {},
   "outputs": [],
   "source": [
    "age_overview = age_overview.sort_values('Average Age', ascending=False)"
   ]
  },
  {
   "cell_type": "code",
   "execution_count": null,
   "metadata": {},
   "outputs": [],
   "source": [
    "age_overview"
   ]
  },
  {
   "cell_type": "code",
   "execution_count": null,
   "metadata": {},
   "outputs": [],
   "source": [
    "age_overview_file = os.path.join(output_directory, 'age_overview.csv')\n",
    "age_overview.to_csv(age_overview_file, index=False)\n",
    "print(f\"Age overview saved to {age_overview_file}\")"
   ]
  },
  {
   "cell_type": "markdown",
   "metadata": {},
   "source": [
    "### League position vs. amount of experience"
   ]
  },
  {
   "cell_type": "code",
   "execution_count": null,
   "metadata": {},
   "outputs": [],
   "source": [
    "avg_league_position = df_top_six.groupby('Team')['League Position'].mean().reset_index()\n",
    "ordered_teams = avg_league_position.sort_values('League Position')['Team']"
   ]
  },
  {
   "cell_type": "code",
   "execution_count": null,
   "metadata": {},
   "outputs": [],
   "source": [
    "experience_metrics = df_top_six.groupby('Team').agg({\n",
    "    'Top Competition Starts Before Season': 'mean',\n",
    "    'Top Competition Appearances Before Season': 'mean',\n",
    "    'Total Starts Before Season': 'mean',\n",
    "    'Total Appearances Before Season': 'mean'\n",
    "}).reset_index()\n",
    "\n",
    "experience_metrics_ordered = experience_metrics.set_index('Team').loc[ordered_teams].reset_index()"
   ]
  },
  {
   "cell_type": "code",
   "execution_count": null,
   "metadata": {},
   "outputs": [],
   "source": [
    "plt.figure(figsize=(14, 8))\n",
    "bar_width = 0.35\n",
    "index = np.arange(len(ordered_teams))\n",
    "\n",
    "plt.bar(index, experience_metrics_ordered['Top Competition Starts Before Season'], bar_width, label='Top Competition Starts')\n",
    "plt.bar(index + bar_width, experience_metrics_ordered['Top Competition Appearances Before Season'], bar_width, label='Top Competition Appearances')\n",
    "\n",
    "offset = max(experience_metrics_ordered['Top Competition Starts Before Season'].max(), experience_metrics_ordered['Top Competition Appearances Before Season'].max()) * 0.01\n",
    "for i in range(len(ordered_teams)):\n",
    "    plt.text(i, experience_metrics_ordered['Top Competition Starts Before Season'][i] + offset, f'{experience_metrics_ordered[\"Top Competition Starts Before Season\"][i]:.2f}', ha='center')\n",
    "    plt.text(i + bar_width, experience_metrics_ordered['Top Competition Appearances Before Season'][i] + offset, f'{experience_metrics_ordered[\"Top Competition Appearances Before Season\"][i]:.2f}', ha='center')\n",
    "\n",
    "plt.xlabel('Team')\n",
    "plt.ylabel('Experience')\n",
    "plt.title('Top Competition Experience Metrics of Top Six Teams')\n",
    "plt.xticks(index + bar_width / 2, ordered_teams, rotation=45)\n",
    "plt.legend()"
   ]
  },
  {
   "cell_type": "code",
   "execution_count": null,
   "metadata": {},
   "outputs": [],
   "source": [
    "plt.figure(figsize=(14, 8))\n",
    "\n",
    "plt.bar(index, experience_metrics_ordered['Total Starts Before Season'], bar_width, label='Total Starts')\n",
    "plt.bar(index + bar_width, experience_metrics_ordered['Total Appearances Before Season'], bar_width, label='Total Appearances')\n",
    "\n",
    "offset = max(experience_metrics_ordered['Total Starts Before Season'].max(), experience_metrics_ordered['Total Appearances Before Season'].max()) * 0.01  \n",
    "for i in range(len(ordered_teams)):\n",
    "    plt.text(i, experience_metrics_ordered['Total Starts Before Season'][i] + offset, f'{experience_metrics_ordered[\"Total Starts Before Season\"][i]:.2f}', ha='center')\n",
    "    plt.text(i + bar_width, experience_metrics_ordered['Total Appearances Before Season'][i] + offset, f'{experience_metrics_ordered[\"Total Appearances Before Season\"][i]:.2f}', ha='center')\n",
    "\n",
    "plt.xlabel('Team')\n",
    "plt.ylabel('Experience')\n",
    "plt.title('Total Experience Metrics of Top Six Teams')\n",
    "plt.xticks(index + bar_width / 2, ordered_teams, rotation=45)\n",
    "plt.legend()"
   ]
  },
  {
   "cell_type": "markdown",
   "metadata": {},
   "source": [
    "### Squad role vs. amount of experience per position"
   ]
  },
  {
   "cell_type": "code",
   "execution_count": null,
   "metadata": {},
   "outputs": [],
   "source": [
    "average_experience_by_role_position = df_top_six.groupby(['Player Position', 'Role']).agg({\n",
    "    'Top Competition Starts Before Season': 'mean',\n",
    "    'Top Competition Appearances Before Season': 'mean',\n",
    "    'Total Starts Before Season': 'mean',\n",
    "    'Total Appearances Before Season': 'mean'\n",
    "}).reset_index()\n",
    "\n",
    "average_experience_by_role_position = average_experience_by_role_position.round(2)\n",
    "\n",
    "print(average_experience_by_role_position)"
   ]
  },
  {
   "cell_type": "code",
   "execution_count": null,
   "metadata": {},
   "outputs": [],
   "source": [
    "position_order = ['Goalkeeper', 'Defender', 'Midfielder', 'Forward']\n",
    "\n",
    "plt.figure(figsize=(12, 8))\n",
    "\n",
    "barplot = sns.barplot(\n",
    "    data=average_experience_by_role_position, \n",
    "    x='Player Position', \n",
    "    y='Top Competition Starts Before Season', \n",
    "    hue='Role',\n",
    "    order=position_order\n",
    ")\n",
    "\n",
    "for p in barplot.patches:\n",
    "    height = p.get_height()\n",
    "    if not np.isnan(height):\n",
    "        barplot.annotate(format(height, '.2f'), \n",
    "                        (p.get_x() + p.get_width() / 2., height), \n",
    "                        ha = 'center', va = 'center', \n",
    "                        xytext = (0, 10), \n",
    "                        textcoords = 'offset points')\n",
    "\n",
    "plt.title('Average Top Competition Starts Before Season by Role and Position')\n",
    "plt.xlabel('Player Position')\n",
    "plt.ylabel('Average Starts')\n",
    "plt.legend(title='Role')\n",
    "plt.xticks(rotation=45)"
   ]
  },
  {
   "cell_type": "code",
   "execution_count": null,
   "metadata": {},
   "outputs": [],
   "source": [
    "plt.figure(figsize=(12, 8))\n",
    "\n",
    "barplot = sns.barplot(\n",
    "    data=average_experience_by_role_position, \n",
    "    x='Player Position', \n",
    "    y='Top Competition Appearances Before Season', \n",
    "    hue='Role',\n",
    "    order=position_order\n",
    ")\n",
    "\n",
    "for p in barplot.patches:\n",
    "    height = p.get_height()\n",
    "    if not np.isnan(height):  # Check for NaN values to avoid errors\n",
    "        barplot.annotate(format(height, '.2f'), \n",
    "                        (p.get_x() + p.get_width() / 2., height), \n",
    "                        ha = 'center', va = 'center', \n",
    "                        xytext = (0, 10), \n",
    "                        textcoords = 'offset points')\n",
    "\n",
    "plt.title('Average Top Competition Appearances Before Season by Role and Position')\n",
    "plt.xlabel('Player Position')\n",
    "plt.ylabel('Average Appearances')\n",
    "plt.legend(title='Role')\n",
    "plt.xticks(rotation=45)"
   ]
  },
  {
   "cell_type": "code",
   "execution_count": null,
   "metadata": {},
   "outputs": [],
   "source": [
    "position_order = ['Goalkeeper', 'Defender', 'Midfielder', 'Forward']\n",
    "\n",
    "plt.figure(figsize=(12, 8))\n",
    "\n",
    "barplot = sns.barplot(\n",
    "    data=average_experience_by_role_position, \n",
    "    x='Player Position', \n",
    "    y='Total Starts Before Season', \n",
    "    hue='Role',\n",
    "    order=position_order\n",
    ")\n",
    "\n",
    "for p in barplot.patches:\n",
    "    height = p.get_height()\n",
    "    if not np.isnan(height):\n",
    "        barplot.annotate(format(height, '.2f'), \n",
    "                        (p.get_x() + p.get_width() / 2., height), \n",
    "                        ha = 'center', va = 'center', \n",
    "                        xytext = (0, 10), \n",
    "                        textcoords = 'offset points')\n",
    "\n",
    "plt.title('Average Total Starts Before Season by Role and Position')\n",
    "plt.xlabel('Player Position')\n",
    "plt.ylabel('Average Starts')\n",
    "plt.legend(title='Role')\n",
    "plt.xticks(rotation=45)"
   ]
  },
  {
   "cell_type": "code",
   "execution_count": null,
   "metadata": {},
   "outputs": [],
   "source": [
    "position_order = ['Goalkeeper', 'Defender', 'Midfielder', 'Forward']\n",
    "\n",
    "plt.figure(figsize=(12, 8))\n",
    "\n",
    "barplot = sns.barplot(\n",
    "    data=average_experience_by_role_position, \n",
    "    x='Player Position', \n",
    "    y='Total Appearances Before Season', \n",
    "    hue='Role',\n",
    "    order=position_order\n",
    ")\n",
    "\n",
    "for p in barplot.patches:\n",
    "    height = p.get_height()\n",
    "    if not np.isnan(height):\n",
    "        barplot.annotate(format(height, '.2f'), \n",
    "                        (p.get_x() + p.get_width() / 2., height), \n",
    "                        ha = 'center', va = 'center', \n",
    "                        xytext = (0, 10), \n",
    "                        textcoords = 'offset points')\n",
    "\n",
    "plt.title('Average Total Appearances Before Season by Role and Position')\n",
    "plt.xlabel('Player Position')\n",
    "plt.ylabel('Average Starts')\n",
    "plt.legend(title='Role')\n",
    "plt.xticks(rotation=45)"
   ]
  },
  {
   "cell_type": "markdown",
   "metadata": {},
   "source": [
    "#### Min-max experience (not filtered)"
   ]
  },
  {
   "cell_type": "code",
   "execution_count": null,
   "metadata": {},
   "outputs": [],
   "source": [
    "def min_max_with_season_player(df, column):\n",
    "    min_value = df[column].min()\n",
    "    max_value = df[column].max()\n",
    "    min_records = df[df[column] == min_value][['Player Name', 'Season']]\n",
    "    max_records = df[df[column] == max_value][['Player Name', 'Season']]\n",
    "    \n",
    "    min_info = '; '.join([f\"{row['Player Name']} ({row['Season']})\" for _, row in min_records.iterrows()])\n",
    "    max_info = '; '.join([f\"{row['Player Name']} ({row['Season']})\" for _, row in max_records.iterrows()])\n",
    "\n",
    "    return pd.Series({\n",
    "        f'{column}_min': min_value,\n",
    "        f'{column}_min_info': min_info,\n",
    "        f'{column}_max': max_value,\n",
    "        f'{column}_max_info': max_info\n",
    "    })"
   ]
  },
  {
   "cell_type": "code",
   "execution_count": null,
   "metadata": {},
   "outputs": [],
   "source": [
    "min_max_experience = df_top_six.groupby(['Player Position', 'Role']).apply(\n",
    "    lambda df: pd.concat([\n",
    "        min_max_with_season_player(df, 'Top Competition Starts Before Season'),\n",
    "        min_max_with_season_player(df, 'Top Competition Appearances Before Season'),\n",
    "        min_max_with_season_player(df, 'Total Starts Before Season'),\n",
    "        min_max_with_season_player(df, 'Total Appearances Before Season')\n",
    "    ])\n",
    ").reset_index()"
   ]
  },
  {
   "cell_type": "code",
   "execution_count": null,
   "metadata": {},
   "outputs": [],
   "source": [
    "min_max_experience"
   ]
  },
  {
   "cell_type": "code",
   "execution_count": null,
   "metadata": {},
   "outputs": [],
   "source": [
    "output_directory = 'analysis_output/csv'\n",
    "os.makedirs(output_directory, exist_ok=True)"
   ]
  },
  {
   "cell_type": "code",
   "execution_count": null,
   "metadata": {},
   "outputs": [],
   "source": [
    "min_max_experience_file = os.path.join(output_directory, 'min_max_experience.csv')\n",
    "min_max_experience.to_csv(min_max_experience_file, index=False)\n",
    "print(f\"Min-max experience saved to {min_max_experience_file}\")"
   ]
  },
  {
   "cell_type": "markdown",
   "metadata": {},
   "source": [
    "#### Initial experience"
   ]
  },
  {
   "cell_type": "code",
   "execution_count": null,
   "metadata": {},
   "outputs": [],
   "source": [
    "df_top_six_sorted = df_top_six.sort_values(by=['Player URL', 'Season'])\n",
    "df_top_six_initial_experience = df_top_six_sorted.drop_duplicates(subset='Player URL', keep='first')"
   ]
  },
  {
   "cell_type": "code",
   "execution_count": null,
   "metadata": {},
   "outputs": [],
   "source": [
    "df_top_six_initial_experience"
   ]
  },
  {
   "cell_type": "code",
   "execution_count": null,
   "metadata": {},
   "outputs": [],
   "source": [
    "df_top_six_initial_experience.columns"
   ]
  },
  {
   "cell_type": "code",
   "execution_count": null,
   "metadata": {},
   "outputs": [],
   "source": [
    "total_apps_initial_experience = df_top_six_initial_experience.groupby(['Player Position', 'Role'])['Total Appearances Before Season'].mean().reset_index()"
   ]
  },
  {
   "cell_type": "code",
   "execution_count": null,
   "metadata": {},
   "outputs": [],
   "source": [
    "position_order = ['Goalkeeper', 'Defender', 'Midfielder', 'Forward']\n",
    "\n",
    "plt.figure(figsize=(16, 10))\n",
    "\n",
    "barplot = sns.barplot(\n",
    "    data=total_apps_initial_experience, \n",
    "    x='Player Position', \n",
    "    y='Total Appearances Before Season', \n",
    "    hue='Role',\n",
    "    order=position_order\n",
    ")\n",
    "\n",
    "for p in barplot.patches:\n",
    "    height = p.get_height()\n",
    "    if not np.isnan(height):\n",
    "        barplot.annotate(format(height, '.2f'), \n",
    "                        (p.get_x() + p.get_width() / 2., height), \n",
    "                        ha='center', va='center', \n",
    "                        xytext=(0, 10), \n",
    "                        textcoords='offset points')\n",
    "\n",
    "plt.title('Average Initial Total Appearances Before Season by Role and Position')\n",
    "plt.xlabel('Player Position')\n",
    "plt.ylabel('Average Appearances')\n",
    "plt.legend(title='Role')\n",
    "plt.xticks(rotation=45)\n",
    "plt.show()"
   ]
  },
  {
   "cell_type": "code",
   "execution_count": null,
   "metadata": {},
   "outputs": [],
   "source": [
    "total_starts_initial_experience = df_top_six_initial_experience.groupby(['Player Position', 'Role'])['Total Starts Before Season'].mean().reset_index()"
   ]
  },
  {
   "cell_type": "code",
   "execution_count": null,
   "metadata": {},
   "outputs": [],
   "source": [
    "position_order = ['Goalkeeper', 'Defender', 'Midfielder', 'Forward']\n",
    "\n",
    "plt.figure(figsize=(16, 10))\n",
    "\n",
    "barplot = sns.barplot(\n",
    "    data=total_starts_initial_experience, \n",
    "    x='Player Position', \n",
    "    y='Total Starts Before Season', \n",
    "    hue='Role',\n",
    "    order=position_order\n",
    ")\n",
    "\n",
    "for p in barplot.patches:\n",
    "    height = p.get_height()\n",
    "    if not np.isnan(height):\n",
    "        barplot.annotate(format(height, '.2f'), \n",
    "                        (p.get_x() + p.get_width() / 2., height), \n",
    "                        ha='center', va='center', \n",
    "                        xytext=(0, 10), \n",
    "                        textcoords='offset points')\n",
    "\n",
    "plt.title('Average Initial Total Appearances Before Season by Role and Position')\n",
    "plt.xlabel('Player Position')\n",
    "plt.ylabel('Average Appearances')\n",
    "plt.legend(title='Role')\n",
    "plt.xticks(rotation=45)\n",
    "plt.show()"
   ]
  },
  {
   "cell_type": "markdown",
   "metadata": {},
   "source": [
    "### Min-max experience (filtered)"
   ]
  },
  {
   "cell_type": "code",
   "execution_count": null,
   "metadata": {},
   "outputs": [],
   "source": [
    "min_max_experience_filtered = df_top_six.groupby(['Player Position', 'Role']).apply(\n",
    "    lambda df: pd.concat([\n",
    "        min_max_with_season_player(df, 'Top Competition Starts Before Season'),\n",
    "        min_max_with_season_player(df, 'Top Competition Appearances Before Season'),\n",
    "        min_max_with_season_player(df, 'Total Starts Before Season'),\n",
    "        min_max_with_season_player(df, 'Total Appearances Before Season')\n",
    "    ])\n",
    ").reset_index(drop=True)\n",
    "\n",
    "min_max_experience_filtered.columns = [' '.join(col).strip() for col in min_max_experience_filtered.columns.values]"
   ]
  },
  {
   "cell_type": "code",
   "execution_count": null,
   "metadata": {},
   "outputs": [],
   "source": [
    "min_max_experience_filtered"
   ]
  },
  {
   "cell_type": "code",
   "execution_count": null,
   "metadata": {},
   "outputs": [],
   "source": [
    "output_directory = 'analysis_output/csv'\n",
    "os.makedirs(output_directory, exist_ok=True)"
   ]
  },
  {
   "cell_type": "code",
   "execution_count": null,
   "metadata": {},
   "outputs": [],
   "source": [
    "min_max_experience_file = os.path.join(output_directory, 'min_max_experience.csv')\n",
    "min_max_experience.to_csv(min_max_experience_file, index=False)\n",
    "print(f\"Min-max experience saved to {min_max_experience_file}\")"
   ]
  },
  {
   "cell_type": "markdown",
   "metadata": {},
   "source": [
    "#### Squad consistency"
   ]
  },
  {
   "cell_type": "code",
   "execution_count": null,
   "metadata": {},
   "outputs": [],
   "source": [
    "relevant_roles = df_top_six[df_top_six['Role'].isin(['1st choice', '2nd choice'])]\n",
    "\n",
    "player_tenure = relevant_roles.groupby(['Team', 'Player Name']).size().reset_index(name='Tenure')\n",
    "\n",
    "team_consistency = player_tenure.groupby('Team')['Tenure'].mean().reset_index()\n",
    "\n",
    "team_consistency = team_consistency.sort_values('Tenure', ascending=False).reset_index(drop=True)\n",
    "\n",
    "print(team_consistency)"
   ]
  },
  {
   "cell_type": "code",
   "execution_count": null,
   "metadata": {},
   "outputs": [],
   "source": [
    "output_directory = 'analysis_output/csv'\n",
    "os.makedirs(output_directory, exist_ok=True)"
   ]
  },
  {
   "cell_type": "code",
   "execution_count": null,
   "metadata": {},
   "outputs": [],
   "source": [
    "team_consistency_file = os.path.join(output_directory, 'team_consistency.csv')\n",
    "team_consistency.to_csv(team_consistency_file, index=False)\n",
    "print(f\"Team consistency saved to {team_consistency_file}\")"
   ]
  },
  {
   "cell_type": "code",
   "execution_count": null,
   "metadata": {},
   "outputs": [],
   "source": [
    "player_tenure_sorted = player_tenure.sort_values('Tenure', ascending=False).reset_index(drop=True)\n",
    "\n",
    "player_tenure_sorted.head(20)"
   ]
  },
  {
   "cell_type": "code",
   "execution_count": null,
   "metadata": {},
   "outputs": [],
   "source": [
    "relevant_roles = df_top_six[df_top_six['Role'].isin(['1st choice', '2nd choice'])]\n",
    "\n",
    "player_tenure = relevant_roles.groupby(['Player Name', 'Player Position', 'Player URL']).size().reset_index(name='Tenure')\n",
    "\n",
    "df_top_six = df_top_six.merge(player_tenure[['Player URL', 'Tenure']], on='Player URL', how='left')\n",
    "\n",
    "df_top_six['Tenure'] = df_top_six['Tenure'].fillna(0)"
   ]
  },
  {
   "cell_type": "code",
   "execution_count": null,
   "metadata": {},
   "outputs": [],
   "source": [
    "position_order = ['Goalkeeper', 'Defender', 'Midfielder', 'Forward']\n",
    "\n",
    "average_tenure_by_position = df_top_six.groupby('Player Position')['Tenure'].mean().reset_index()"
   ]
  },
  {
   "cell_type": "code",
   "execution_count": null,
   "metadata": {},
   "outputs": [],
   "source": [
    "average_tenure_by_position"
   ]
  },
  {
   "cell_type": "code",
   "execution_count": null,
   "metadata": {},
   "outputs": [],
   "source": [
    "plt.figure(figsize=(12, 8))\n",
    "barplot = sns.barplot(x='Tenure', y='Player Position', data=average_tenure_by_position, order=position_order, palette=\"Blues_d\")\n",
    "\n",
    "plt.xlabel('Average Tenure')\n",
    "plt.ylabel('Player Position')\n",
    "plt.title('Average Tenure by Position in Top Six Teams')\n",
    "\n",
    "for p in barplot.patches:\n",
    "    width = p.get_width()\n",
    "    plt.text(p.get_x() + width + 0.11,\n",
    "             p.get_y() + p.get_height()/2,\n",
    "             '{:1.2f}'.format(width),\n",
    "             ha = 'center',\n",
    "             va = 'center')"
   ]
  },
  {
   "cell_type": "markdown",
   "metadata": {},
   "source": [
    "#### Chelsea!"
   ]
  },
  {
   "cell_type": "code",
   "execution_count": null,
   "metadata": {},
   "outputs": [],
   "source": [
    "csv_file_path = 'season_summaries\\\\2023-2024_top_players.csv'\n",
    "\n",
    "df_chelsea = pd.read_csv(csv_file_path)\n",
    "\n",
    "chelsea_df = df_chelsea[df_chelsea['Team'] == 'Chelsea FC']"
   ]
  },
  {
   "cell_type": "code",
   "execution_count": null,
   "metadata": {},
   "outputs": [],
   "source": [
    "chelsea_df.columns"
   ]
  },
  {
   "cell_type": "code",
   "execution_count": null,
   "metadata": {},
   "outputs": [],
   "source": [
    "chelsea_df = chelsea_df.drop(['League Position',\n",
    "                              'Player URL',\n",
    "                              'Team',\n",
    "                              'Season',\n",
    "                              'Role'], axis=1)"
   ]
  },
  {
   "cell_type": "code",
   "execution_count": null,
   "metadata": {},
   "outputs": [],
   "source": [
    "chelsea_df"
   ]
  },
  {
   "cell_type": "code",
   "execution_count": null,
   "metadata": {},
   "outputs": [],
   "source": [
    "output_directory = 'analysis_output/csv'\n",
    "os.makedirs(output_directory, exist_ok=True)"
   ]
  },
  {
   "cell_type": "code",
   "execution_count": null,
   "metadata": {},
   "outputs": [],
   "source": [
    "chelsea_df_file = os.path.join(output_directory, 'chelsea_current_state.csv')\n",
    "chelsea_df.to_csv(chelsea_df_file, index=False)\n",
    "print(f\"Chelsea current squad state saved to {chelsea_df_file}\")"
   ]
  },
  {
   "cell_type": "code",
   "execution_count": null,
   "metadata": {},
   "outputs": [],
   "source": [
    "average_values = chelsea_df[[\n",
    "    'Age at End of Season',\n",
    "    'PL Starts This Season', \n",
    "    'PL Appearances This Season',\n",
    "    'Top Competition Starts Before Season',\n",
    "    'Top Competition Appearances Before Season',\n",
    "    'Total Starts Before Season', \n",
    "    'Total Appearances Before Season'\n",
    "]].mean()\n",
    "\n",
    "average_values = average_values.round(2)\n",
    "\n",
    "print(average_values)"
   ]
  },
  {
   "cell_type": "code",
   "execution_count": null,
   "metadata": {},
   "outputs": [],
   "source": [
    "chelsea_df_filtered = chelsea_df[\n",
    "    (chelsea_df['Player Name'] != 'Raheem Sterling') &\n",
    "    (chelsea_df['Player Name'] != 'Thiago Silva')\n",
    "]\n",
    "\n",
    "average_values = chelsea_df_filtered[[\n",
    "    'Age at End of Season',\n",
    "    'PL Starts This Season', \n",
    "    'PL Appearances This Season',\n",
    "    'Top Competition Starts Before Season',\n",
    "    'Top Competition Appearances Before Season',\n",
    "    'Total Starts Before Season', \n",
    "    'Total Appearances Before Season'\n",
    "]].mean()\n",
    "\n",
    "average_values = average_values.round(2)\n",
    "\n",
    "print(average_values)"
   ]
  },
  {
   "cell_type": "code",
   "execution_count": null,
   "metadata": {},
   "outputs": [],
   "source": [
    "csv_file_path = 'season_summaries\\\\2023-2024_top_players.csv'\n",
    "\n",
    "df_rest_of_the_league = pd.read_csv(csv_file_path)\n",
    "\n",
    "rest_of_the_league_df = df_rest_of_the_league[df_rest_of_the_league['Team'] != 'Chelsea FC']"
   ]
  },
  {
   "cell_type": "code",
   "execution_count": null,
   "metadata": {},
   "outputs": [],
   "source": [
    "rest_of_the_league_df"
   ]
  },
  {
   "cell_type": "code",
   "execution_count": null,
   "metadata": {},
   "outputs": [],
   "source": [
    "average_values = rest_of_the_league_df[[\n",
    "    'Age at End of Season',\n",
    "    'PL Starts This Season', \n",
    "    'PL Appearances This Season',\n",
    "    'Top Competition Starts Before Season',\n",
    "    'Top Competition Appearances Before Season',\n",
    "    'Total Starts Before Season', \n",
    "    'Total Appearances Before Season'\n",
    "]].mean()\n",
    "\n",
    "average_values = average_values.round(2)\n",
    "\n",
    "print(average_values)"
   ]
  }
 ],
 "metadata": {
  "kernelspec": {
   "display_name": "Python 3",
   "language": "python",
   "name": "python3"
  },
  "language_info": {
   "codemirror_mode": {
    "name": "ipython",
    "version": 3
   },
   "file_extension": ".py",
   "mimetype": "text/x-python",
   "name": "python",
   "nbconvert_exporter": "python",
   "pygments_lexer": "ipython3",
   "version": "3.11.2"
  }
 },
 "nbformat": 4,
 "nbformat_minor": 2
}
